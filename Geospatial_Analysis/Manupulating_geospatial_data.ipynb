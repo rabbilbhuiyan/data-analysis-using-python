{
 "cells": [
  {
   "cell_type": "markdown",
   "metadata": {},
   "source": [
    "### Geospatial data manupulation using geocoding and table joins\n",
    "- How to convert names of places to geographic coordinates\n",
    "- How to join information from multiple GeoDataFrames"
   ]
  },
  {
   "cell_type": "markdown",
   "metadata": {},
   "source": [
    "### Geocoding\n",
    "Geocoding is the process of converting the name of a place or an address to a location on a map.\n",
    "For example, in Google Maps geocoder is used to look up a gegraphic location."
   ]
  },
  {
   "cell_type": "code",
   "execution_count": 39,
   "metadata": {},
   "outputs": [],
   "source": [
    "# Import libraries\n",
    "# We will use geopandas tools for that\n",
    "from geopandas.tools import geocode\n",
    "import pandas as pd\n",
    "import numpy as np\n",
    "import geopandas as gpd\n",
    "\n",
    "import folium\n",
    "from folium import Choropleth, Circle, Marker\n",
    "from folium.plugins import HeatMap, MarkerCluster"
   ]
  },
  {
   "cell_type": "markdown",
   "metadata": {},
   "source": [
    "- To use geocoder, we need to provide:\n",
    "        - the name or address as pyton string\n",
    "        - the name of provider\n",
    "            - to avoid having to provide an API key, we will use\n",
    "                -OpenStreetMap Nominatim geocoder\n",
    "- it will return GeoDataFrame with two columns: geometry and address"
   ]
  },
  {
   "cell_type": "code",
   "execution_count": 11,
   "metadata": {},
   "outputs": [
    {
     "data": {
      "text/html": [
       "<div>\n",
       "<style scoped>\n",
       "    .dataframe tbody tr th:only-of-type {\n",
       "        vertical-align: middle;\n",
       "    }\n",
       "\n",
       "    .dataframe tbody tr th {\n",
       "        vertical-align: top;\n",
       "    }\n",
       "\n",
       "    .dataframe thead th {\n",
       "        text-align: right;\n",
       "    }\n",
       "</style>\n",
       "<table border=\"1\" class=\"dataframe\">\n",
       "  <thead>\n",
       "    <tr style=\"text-align: right;\">\n",
       "      <th></th>\n",
       "      <th>geometry</th>\n",
       "      <th>address</th>\n",
       "    </tr>\n",
       "  </thead>\n",
       "  <tbody>\n",
       "    <tr>\n",
       "      <th>0</th>\n",
       "      <td>POINT (31.08151 29.98449)</td>\n",
       "      <td>The Ring Road, Giza, Egypt</td>\n",
       "    </tr>\n",
       "  </tbody>\n",
       "</table>\n",
       "</div>"
      ],
      "text/plain": [
       "                    geometry                     address\n",
       "0  POINT (31.08151 29.98449)  The Ring Road, Giza, Egypt"
      ]
     },
     "execution_count": 11,
     "metadata": {},
     "output_type": "execute_result"
    }
   ],
   "source": [
    "# !pip install geopy\n",
    "result = geocode(\"The Great Pramid of Giza\", provider=None)\n",
    "result"
   ]
  },
  {
   "cell_type": "markdown",
   "metadata": {},
   "source": [
    "- So we see that geometry column is a Point object\n",
    "- So we can get latitude and longitude from the y and x atrributes"
   ]
  },
  {
   "cell_type": "code",
   "execution_count": 15,
   "metadata": {},
   "outputs": [
    {
     "name": "stdout",
     "output_type": "stream",
     "text": [
      "Latitude: 29.984491259822\n",
      "Longitude: 31.0815092373299\n"
     ]
    }
   ],
   "source": [
    "#result.geometry.x\n",
    "point = result.geometry.iloc[0]\n",
    "\n",
    "print('Latitude:', point.y)\n",
    "print('Longitude:', point.x)"
   ]
  },
  {
   "cell_type": "markdown",
   "metadata": {},
   "source": [
    "### Obtaining location of top universities in Europe from csv file by geocoding"
   ]
  },
  {
   "cell_type": "code",
   "execution_count": 19,
   "metadata": {},
   "outputs": [
    {
     "data": {
      "text/html": [
       "<div>\n",
       "<style scoped>\n",
       "    .dataframe tbody tr th:only-of-type {\n",
       "        vertical-align: middle;\n",
       "    }\n",
       "\n",
       "    .dataframe tbody tr th {\n",
       "        vertical-align: top;\n",
       "    }\n",
       "\n",
       "    .dataframe thead th {\n",
       "        text-align: right;\n",
       "    }\n",
       "</style>\n",
       "<table border=\"1\" class=\"dataframe\">\n",
       "  <thead>\n",
       "    <tr style=\"text-align: right;\">\n",
       "      <th></th>\n",
       "      <th>Name</th>\n",
       "    </tr>\n",
       "  </thead>\n",
       "  <tbody>\n",
       "    <tr>\n",
       "      <th>0</th>\n",
       "      <td>University of Oxford</td>\n",
       "    </tr>\n",
       "    <tr>\n",
       "      <th>1</th>\n",
       "      <td>University of Cambridge</td>\n",
       "    </tr>\n",
       "    <tr>\n",
       "      <th>2</th>\n",
       "      <td>Imperial College London</td>\n",
       "    </tr>\n",
       "    <tr>\n",
       "      <th>3</th>\n",
       "      <td>ETH Zurich</td>\n",
       "    </tr>\n",
       "    <tr>\n",
       "      <th>4</th>\n",
       "      <td>UCL</td>\n",
       "    </tr>\n",
       "  </tbody>\n",
       "</table>\n",
       "</div>"
      ],
      "text/plain": [
       "                      Name\n",
       "0     University of Oxford\n",
       "1  University of Cambridge\n",
       "2  Imperial College London\n",
       "3               ETH Zurich\n",
       "4                      UCL"
      ]
     },
     "execution_count": 19,
     "metadata": {},
     "output_type": "execute_result"
    }
   ],
   "source": [
    "# Here we will geocode many different addresses\n",
    "# reading the csv file \n",
    "universities = pd.read_csv(r'C:\\Users\\Rabbil\\Documents\\GeoPython\\GeoSpatial_Analysis\\top_universities.csv')\n",
    "universities.head()"
   ]
  },
  {
   "cell_type": "markdown",
   "metadata": {},
   "source": [
    "- Now we will use lambda function to apply the geocoder to every row in the dataframe\n",
    "- We also use try/except satement to account for the case that the geocoding is unsuccessful"
   ]
  },
  {
   "cell_type": "code",
   "execution_count": 21,
   "metadata": {},
   "outputs": [
    {
     "data": {
      "text/html": [
       "<div>\n",
       "<style scoped>\n",
       "    .dataframe tbody tr th:only-of-type {\n",
       "        vertical-align: middle;\n",
       "    }\n",
       "\n",
       "    .dataframe tbody tr th {\n",
       "        vertical-align: top;\n",
       "    }\n",
       "\n",
       "    .dataframe thead th {\n",
       "        text-align: right;\n",
       "    }\n",
       "</style>\n",
       "<table border=\"1\" class=\"dataframe\">\n",
       "  <thead>\n",
       "    <tr style=\"text-align: right;\">\n",
       "      <th></th>\n",
       "      <th>Name</th>\n",
       "      <th>Latitude</th>\n",
       "      <th>Longitude</th>\n",
       "      <th>geometry</th>\n",
       "    </tr>\n",
       "  </thead>\n",
       "  <tbody>\n",
       "    <tr>\n",
       "      <th>0</th>\n",
       "      <td>University of Oxford</td>\n",
       "      <td>51.756802</td>\n",
       "      <td>-1.254726</td>\n",
       "      <td>POINT (-1.25472605228205 51.7568016052847)</td>\n",
       "    </tr>\n",
       "    <tr>\n",
       "      <th>1</th>\n",
       "      <td>University of Cambridge</td>\n",
       "      <td>52.205303</td>\n",
       "      <td>0.116613</td>\n",
       "      <td>POINT (0.11661300063119 52.2053031921855)</td>\n",
       "    </tr>\n",
       "    <tr>\n",
       "      <th>2</th>\n",
       "      <td>Imperial College London</td>\n",
       "      <td>51.498997</td>\n",
       "      <td>-0.175495</td>\n",
       "      <td>POINT (-0.17549499869328 51.4989967346843)</td>\n",
       "    </tr>\n",
       "    <tr>\n",
       "      <th>3</th>\n",
       "      <td>ETH Zurich</td>\n",
       "      <td>47.376415</td>\n",
       "      <td>8.548102</td>\n",
       "      <td>POINT (8.548102378841399 47.3764152526776)</td>\n",
       "    </tr>\n",
       "    <tr>\n",
       "      <th>4</th>\n",
       "      <td>UCL</td>\n",
       "      <td>51.523815</td>\n",
       "      <td>-0.133060</td>\n",
       "      <td>POINT (-0.13305999338621 51.5238151550844)</td>\n",
       "    </tr>\n",
       "  </tbody>\n",
       "</table>\n",
       "</div>"
      ],
      "text/plain": [
       "                      Name   Latitude  Longitude  \\\n",
       "0     University of Oxford  51.756802  -1.254726   \n",
       "1  University of Cambridge  52.205303   0.116613   \n",
       "2  Imperial College London  51.498997  -0.175495   \n",
       "3               ETH Zurich  47.376415   8.548102   \n",
       "4                      UCL  51.523815  -0.133060   \n",
       "\n",
       "                                     geometry  \n",
       "0  POINT (-1.25472605228205 51.7568016052847)  \n",
       "1   POINT (0.11661300063119 52.2053031921855)  \n",
       "2  POINT (-0.17549499869328 51.4989967346843)  \n",
       "3  POINT (8.548102378841399 47.3764152526776)  \n",
       "4  POINT (-0.13305999338621 51.5238151550844)  "
      ]
     },
     "execution_count": 21,
     "metadata": {},
     "output_type": "execute_result"
    }
   ],
   "source": [
    "# creating a function for geocoder\n",
    "def my_geocoder(row):\n",
    "    try:\n",
    "        point = geocode(row, provider=None).geometry.iloc[0]\n",
    "        return pd.Series({'Latitude':point.y, 'Longitude':point.x, 'geometry':point})\n",
    "    except:\n",
    "        return None\n",
    "\n",
    "# apply the function to the dataframe\n",
    "universities[['Latitude', 'Longitude', 'geometry']] = universities.apply(lambda x:my_geocoder(x['Name']), axis=1)\n",
    "universities.head()"
   ]
  },
  {
   "cell_type": "code",
   "execution_count": 24,
   "metadata": {},
   "outputs": [
    {
     "name": "stdout",
     "output_type": "stream",
     "text": [
      "99.0% of addresses were geocoded!\n"
     ]
    }
   ],
   "source": [
    "# Let's print the % of address are geocoded\n",
    "print(\"{}% of addresses were geocoded!\".format(\n",
    "    (1 - sum(np.isnan(universities[\"Latitude\"])) / len(universities)) * 100))"
   ]
  },
  {
   "cell_type": "code",
   "execution_count": 35,
   "metadata": {},
   "outputs": [
    {
     "data": {
      "text/plain": [
       "pandas.core.frame.DataFrame"
      ]
     },
     "execution_count": 35,
     "metadata": {},
     "output_type": "execute_result"
    }
   ],
   "source": [
    "# Drop universities that were not successfully geocoded\n",
    "universities = universities.loc[~np.isnan(universities['Latitude'])]\n",
    "\n",
    "type(universities)"
   ]
  },
  {
   "cell_type": "code",
   "execution_count": 37,
   "metadata": {},
   "outputs": [
    {
     "name": "stdout",
     "output_type": "stream",
     "text": [
      "<class 'geopandas.geodataframe.GeoDataFrame'>\n"
     ]
    },
    {
     "name": "stderr",
     "output_type": "stream",
     "text": [
      "C:\\Users\\Rabbil\\anaconda3\\envs\\geopandas_env\\lib\\site-packages\\pyproj\\crs\\crs.py:53: FutureWarning: '+init=<authority>:<code>' syntax is deprecated. '<authority>:<code>' is the preferred initialization method. When making the change, be mindful of axis order changes: https://pyproj4.github.io/pyproj/stable/gotchas.html#axis-order-changes-in-proj-6\n",
      "  return _prepare_from_string(\" \".join(pjargs))\n"
     ]
    },
    {
     "data": {
      "text/html": [
       "<div>\n",
       "<style scoped>\n",
       "    .dataframe tbody tr th:only-of-type {\n",
       "        vertical-align: middle;\n",
       "    }\n",
       "\n",
       "    .dataframe tbody tr th {\n",
       "        vertical-align: top;\n",
       "    }\n",
       "\n",
       "    .dataframe thead th {\n",
       "        text-align: right;\n",
       "    }\n",
       "</style>\n",
       "<table border=\"1\" class=\"dataframe\">\n",
       "  <thead>\n",
       "    <tr style=\"text-align: right;\">\n",
       "      <th></th>\n",
       "      <th>Name</th>\n",
       "      <th>Latitude</th>\n",
       "      <th>Longitude</th>\n",
       "      <th>geometry</th>\n",
       "    </tr>\n",
       "  </thead>\n",
       "  <tbody>\n",
       "    <tr>\n",
       "      <th>0</th>\n",
       "      <td>University of Oxford</td>\n",
       "      <td>51.756802</td>\n",
       "      <td>-1.254726</td>\n",
       "      <td>POINT (-1.25473 51.75680)</td>\n",
       "    </tr>\n",
       "    <tr>\n",
       "      <th>1</th>\n",
       "      <td>University of Cambridge</td>\n",
       "      <td>52.205303</td>\n",
       "      <td>0.116613</td>\n",
       "      <td>POINT (0.11661 52.20530)</td>\n",
       "    </tr>\n",
       "    <tr>\n",
       "      <th>2</th>\n",
       "      <td>Imperial College London</td>\n",
       "      <td>51.498997</td>\n",
       "      <td>-0.175495</td>\n",
       "      <td>POINT (-0.17549 51.49900)</td>\n",
       "    </tr>\n",
       "    <tr>\n",
       "      <th>3</th>\n",
       "      <td>ETH Zurich</td>\n",
       "      <td>47.376415</td>\n",
       "      <td>8.548102</td>\n",
       "      <td>POINT (8.54810 47.37642)</td>\n",
       "    </tr>\n",
       "    <tr>\n",
       "      <th>4</th>\n",
       "      <td>UCL</td>\n",
       "      <td>51.523815</td>\n",
       "      <td>-0.133060</td>\n",
       "      <td>POINT (-0.13306 51.52382)</td>\n",
       "    </tr>\n",
       "  </tbody>\n",
       "</table>\n",
       "</div>"
      ],
      "text/plain": [
       "                      Name   Latitude  Longitude                   geometry\n",
       "0     University of Oxford  51.756802  -1.254726  POINT (-1.25473 51.75680)\n",
       "1  University of Cambridge  52.205303   0.116613   POINT (0.11661 52.20530)\n",
       "2  Imperial College London  51.498997  -0.175495  POINT (-0.17549 51.49900)\n",
       "3               ETH Zurich  47.376415   8.548102   POINT (8.54810 47.37642)\n",
       "4                      UCL  51.523815  -0.133060  POINT (-0.13306 51.52382)"
      ]
     },
     "execution_count": 37,
     "metadata": {},
     "output_type": "execute_result"
    }
   ],
   "source": [
    "# Change the panda dataframe into GeoDataFrame\n",
    "universities = gpd.GeoDataFrame(universities, geometry=universities.geometry)\n",
    "universities.crs = {'init': 'epsg:4326'}\n",
    "print(type(universities))\n",
    "universities.head()"
   ]
  },
  {
   "cell_type": "markdown",
   "metadata": {},
   "source": [
    "### Vizualiazation of all the locations"
   ]
  },
  {
   "cell_type": "code",
   "execution_count": 41,
   "metadata": {},
   "outputs": [
    {
     "data": {
      "text/html": [
       "<div style=\"width:100%;\"><div style=\"position:relative;width:100%;height:0;padding-bottom:60%;\"><span style=\"color:#565656\">Make this Notebook Trusted to load map: File -> Trust Notebook</span><iframe src=\"about:blank\" style=\"position:absolute;width:100%;height:100%;left:0;top:0;border:none !important;\" data-html=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 onload=\"this.contentDocument.open();this.contentDocument.write(atob(this.getAttribute('data-html')));this.contentDocument.close();\" allowfullscreen webkitallowfullscreen mozallowfullscreen></iframe></div></div>"
      ],
      "text/plain": [
       "<folium.folium.Map at 0x270b4b91108>"
      ]
     },
     "execution_count": 41,
     "metadata": {},
     "output_type": "execute_result"
    }
   ],
   "source": [
    "# Creat a map\n",
    "map = folium.Map(location=[54, 15], tiles='openstreetmap', zoom_start=2)\n",
    "\n",
    "# Add a points to the map\n",
    "for idx, row in universities.iterrows():\n",
    "    folium.Marker([row['Latitude'], row['Longitude']], popup=row['Name']).add_to(map)\n",
    "    \n",
    "# Display the map\n",
    "map\n",
    "    \n",
    "    "
   ]
  },
  {
   "cell_type": "markdown",
   "metadata": {},
   "source": [
    "- So noticibale that certain locations are certainly inaccurate, as they are not in Europe"
   ]
  },
  {
   "cell_type": "markdown",
   "metadata": {},
   "source": [
    "### Table joins"
   ]
  },
  {
   "cell_type": "markdown",
   "metadata": {},
   "source": [
    "- We wil combine data from different sources using\n",
    "    - Attribute join \n",
    "    - Spatial join"
   ]
  },
  {
   "cell_type": "markdown",
   "metadata": {},
   "source": [
    "##### Attribute join \n",
    "- It is similar to pd.DataFrame.join() having a shared index\n",
    "- For geodataframe we use gpd.GeoDataFrame.merge()"
   ]
  },
  {
   "cell_type": "code",
   "execution_count": 43,
   "metadata": {},
   "outputs": [
    {
     "data": {
      "text/html": [
       "<div>\n",
       "<style scoped>\n",
       "    .dataframe tbody tr th:only-of-type {\n",
       "        vertical-align: middle;\n",
       "    }\n",
       "\n",
       "    .dataframe tbody tr th {\n",
       "        vertical-align: top;\n",
       "    }\n",
       "\n",
       "    .dataframe thead th {\n",
       "        text-align: right;\n",
       "    }\n",
       "</style>\n",
       "<table border=\"1\" class=\"dataframe\">\n",
       "  <thead>\n",
       "    <tr style=\"text-align: right;\">\n",
       "      <th></th>\n",
       "      <th>pop_est</th>\n",
       "      <th>continent</th>\n",
       "      <th>name</th>\n",
       "      <th>iso_a3</th>\n",
       "      <th>gdp_md_est</th>\n",
       "      <th>geometry</th>\n",
       "    </tr>\n",
       "  </thead>\n",
       "  <tbody>\n",
       "    <tr>\n",
       "      <th>0</th>\n",
       "      <td>920938</td>\n",
       "      <td>Oceania</td>\n",
       "      <td>Fiji</td>\n",
       "      <td>FJI</td>\n",
       "      <td>8374.0</td>\n",
       "      <td>MULTIPOLYGON (((180.00000 -16.06713, 180.00000...</td>\n",
       "    </tr>\n",
       "    <tr>\n",
       "      <th>1</th>\n",
       "      <td>53950935</td>\n",
       "      <td>Africa</td>\n",
       "      <td>Tanzania</td>\n",
       "      <td>TZA</td>\n",
       "      <td>150600.0</td>\n",
       "      <td>POLYGON ((33.90371 -0.95000, 34.07262 -1.05982...</td>\n",
       "    </tr>\n",
       "    <tr>\n",
       "      <th>2</th>\n",
       "      <td>603253</td>\n",
       "      <td>Africa</td>\n",
       "      <td>W. Sahara</td>\n",
       "      <td>ESH</td>\n",
       "      <td>906.5</td>\n",
       "      <td>POLYGON ((-8.66559 27.65643, -8.66512 27.58948...</td>\n",
       "    </tr>\n",
       "    <tr>\n",
       "      <th>3</th>\n",
       "      <td>35623680</td>\n",
       "      <td>North America</td>\n",
       "      <td>Canada</td>\n",
       "      <td>CAN</td>\n",
       "      <td>1674000.0</td>\n",
       "      <td>MULTIPOLYGON (((-122.84000 49.00000, -122.9742...</td>\n",
       "    </tr>\n",
       "    <tr>\n",
       "      <th>4</th>\n",
       "      <td>326625791</td>\n",
       "      <td>North America</td>\n",
       "      <td>United States of America</td>\n",
       "      <td>USA</td>\n",
       "      <td>18560000.0</td>\n",
       "      <td>MULTIPOLYGON (((-122.84000 49.00000, -120.0000...</td>\n",
       "    </tr>\n",
       "  </tbody>\n",
       "</table>\n",
       "</div>"
      ],
      "text/plain": [
       "     pop_est      continent                      name iso_a3  gdp_md_est  \\\n",
       "0     920938        Oceania                      Fiji    FJI      8374.0   \n",
       "1   53950935         Africa                  Tanzania    TZA    150600.0   \n",
       "2     603253         Africa                 W. Sahara    ESH       906.5   \n",
       "3   35623680  North America                    Canada    CAN   1674000.0   \n",
       "4  326625791  North America  United States of America    USA  18560000.0   \n",
       "\n",
       "                                            geometry  \n",
       "0  MULTIPOLYGON (((180.00000 -16.06713, 180.00000...  \n",
       "1  POLYGON ((33.90371 -0.95000, 34.07262 -1.05982...  \n",
       "2  POLYGON ((-8.66559 27.65643, -8.66512 27.58948...  \n",
       "3  MULTIPOLYGON (((-122.84000 49.00000, -122.9742...  \n",
       "4  MULTIPOLYGON (((-122.84000 49.00000, -120.0000...  "
      ]
     },
     "execution_count": 43,
     "metadata": {},
     "output_type": "execute_result"
    }
   ],
   "source": [
    "# Let's read the data file containing boundaries of every country in Europe\n",
    "# reading data\n",
    "# First we read the world boundaries data\n",
    "world = gpd.read_file(gpd.datasets.get_path('naturalearth_lowres'))\n",
    "world.head()"
   ]
  },
  {
   "cell_type": "code",
   "execution_count": 44,
   "metadata": {},
   "outputs": [
    {
     "data": {
      "text/html": [
       "<div>\n",
       "<style scoped>\n",
       "    .dataframe tbody tr th:only-of-type {\n",
       "        vertical-align: middle;\n",
       "    }\n",
       "\n",
       "    .dataframe tbody tr th {\n",
       "        vertical-align: top;\n",
       "    }\n",
       "\n",
       "    .dataframe thead th {\n",
       "        text-align: right;\n",
       "    }\n",
       "</style>\n",
       "<table border=\"1\" class=\"dataframe\">\n",
       "  <thead>\n",
       "    <tr style=\"text-align: right;\">\n",
       "      <th></th>\n",
       "      <th>pop_est</th>\n",
       "      <th>continent</th>\n",
       "      <th>name</th>\n",
       "      <th>iso_a3</th>\n",
       "      <th>gdp_md_est</th>\n",
       "      <th>geometry</th>\n",
       "    </tr>\n",
       "  </thead>\n",
       "  <tbody>\n",
       "    <tr>\n",
       "      <th>0</th>\n",
       "      <td>142257519</td>\n",
       "      <td>Europe</td>\n",
       "      <td>Russia</td>\n",
       "      <td>RUS</td>\n",
       "      <td>3745000.0</td>\n",
       "      <td>MULTIPOLYGON (((178.725 71.099, 180.000 71.516...</td>\n",
       "    </tr>\n",
       "    <tr>\n",
       "      <th>1</th>\n",
       "      <td>5320045</td>\n",
       "      <td>Europe</td>\n",
       "      <td>Norway</td>\n",
       "      <td>-99</td>\n",
       "      <td>364700.0</td>\n",
       "      <td>MULTIPOLYGON (((15.143 79.674, 15.523 80.016, ...</td>\n",
       "    </tr>\n",
       "    <tr>\n",
       "      <th>2</th>\n",
       "      <td>67106161</td>\n",
       "      <td>Europe</td>\n",
       "      <td>France</td>\n",
       "      <td>-99</td>\n",
       "      <td>2699000.0</td>\n",
       "      <td>MULTIPOLYGON (((-51.658 4.156, -52.249 3.241, ...</td>\n",
       "    </tr>\n",
       "    <tr>\n",
       "      <th>3</th>\n",
       "      <td>9960487</td>\n",
       "      <td>Europe</td>\n",
       "      <td>Sweden</td>\n",
       "      <td>SWE</td>\n",
       "      <td>498100.0</td>\n",
       "      <td>POLYGON ((11.027 58.856, 11.468 59.432, 12.300...</td>\n",
       "    </tr>\n",
       "    <tr>\n",
       "      <th>4</th>\n",
       "      <td>9549747</td>\n",
       "      <td>Europe</td>\n",
       "      <td>Belarus</td>\n",
       "      <td>BLR</td>\n",
       "      <td>165400.0</td>\n",
       "      <td>POLYGON ((28.177 56.169, 29.230 55.918, 29.372...</td>\n",
       "    </tr>\n",
       "  </tbody>\n",
       "</table>\n",
       "</div>"
      ],
      "text/plain": [
       "     pop_est continent     name iso_a3  gdp_md_est  \\\n",
       "0  142257519    Europe   Russia    RUS   3745000.0   \n",
       "1    5320045    Europe   Norway    -99    364700.0   \n",
       "2   67106161    Europe   France    -99   2699000.0   \n",
       "3    9960487    Europe   Sweden    SWE    498100.0   \n",
       "4    9549747    Europe  Belarus    BLR    165400.0   \n",
       "\n",
       "                                            geometry  \n",
       "0  MULTIPOLYGON (((178.725 71.099, 180.000 71.516...  \n",
       "1  MULTIPOLYGON (((15.143 79.674, 15.523 80.016, ...  \n",
       "2  MULTIPOLYGON (((-51.658 4.156, -52.249 3.241, ...  \n",
       "3  POLYGON ((11.027 58.856, 11.468 59.432, 12.300...  \n",
       "4  POLYGON ((28.177 56.169, 29.230 55.918, 29.372...  "
      ]
     },
     "execution_count": 44,
     "metadata": {},
     "output_type": "execute_result"
    }
   ],
   "source": [
    "# now slicing the data into Europe boundaries data\n",
    "europe = world.loc[world.continent=='Europe'].reset_index(drop=True)\n",
    "europe.head()"
   ]
  },
  {
   "cell_type": "code",
   "execution_count": 45,
   "metadata": {},
   "outputs": [],
   "source": [
    "# let' create sub geodataframe from europe geodataframe\n",
    "europe_stats = europe[[\"name\", \"pop_est\", \"gdp_md_est\"]]\n",
    "europe_boundaries = europe[['name', 'geometry']]"
   ]
  },
  {
   "cell_type": "code",
   "execution_count": 46,
   "metadata": {},
   "outputs": [
    {
     "data": {
      "text/html": [
       "<div>\n",
       "<style scoped>\n",
       "    .dataframe tbody tr th:only-of-type {\n",
       "        vertical-align: middle;\n",
       "    }\n",
       "\n",
       "    .dataframe tbody tr th {\n",
       "        vertical-align: top;\n",
       "    }\n",
       "\n",
       "    .dataframe thead th {\n",
       "        text-align: right;\n",
       "    }\n",
       "</style>\n",
       "<table border=\"1\" class=\"dataframe\">\n",
       "  <thead>\n",
       "    <tr style=\"text-align: right;\">\n",
       "      <th></th>\n",
       "      <th>name</th>\n",
       "      <th>geometry</th>\n",
       "    </tr>\n",
       "  </thead>\n",
       "  <tbody>\n",
       "    <tr>\n",
       "      <th>0</th>\n",
       "      <td>Russia</td>\n",
       "      <td>MULTIPOLYGON (((178.725 71.099, 180.000 71.516...</td>\n",
       "    </tr>\n",
       "    <tr>\n",
       "      <th>1</th>\n",
       "      <td>Norway</td>\n",
       "      <td>MULTIPOLYGON (((15.143 79.674, 15.523 80.016, ...</td>\n",
       "    </tr>\n",
       "    <tr>\n",
       "      <th>2</th>\n",
       "      <td>France</td>\n",
       "      <td>MULTIPOLYGON (((-51.658 4.156, -52.249 3.241, ...</td>\n",
       "    </tr>\n",
       "    <tr>\n",
       "      <th>3</th>\n",
       "      <td>Sweden</td>\n",
       "      <td>POLYGON ((11.027 58.856, 11.468 59.432, 12.300...</td>\n",
       "    </tr>\n",
       "    <tr>\n",
       "      <th>4</th>\n",
       "      <td>Belarus</td>\n",
       "      <td>POLYGON ((28.177 56.169, 29.230 55.918, 29.372...</td>\n",
       "    </tr>\n",
       "  </tbody>\n",
       "</table>\n",
       "</div>"
      ],
      "text/plain": [
       "      name                                           geometry\n",
       "0   Russia  MULTIPOLYGON (((178.725 71.099, 180.000 71.516...\n",
       "1   Norway  MULTIPOLYGON (((15.143 79.674, 15.523 80.016, ...\n",
       "2   France  MULTIPOLYGON (((-51.658 4.156, -52.249 3.241, ...\n",
       "3   Sweden  POLYGON ((11.027 58.856, 11.468 59.432, 12.300...\n",
       "4  Belarus  POLYGON ((28.177 56.169, 29.230 55.918, 29.372..."
      ]
     },
     "execution_count": 46,
     "metadata": {},
     "output_type": "execute_result"
    }
   ],
   "source": [
    "europe_boundaries.head()"
   ]
  },
  {
   "cell_type": "code",
   "execution_count": 47,
   "metadata": {},
   "outputs": [
    {
     "data": {
      "text/html": [
       "<div>\n",
       "<style scoped>\n",
       "    .dataframe tbody tr th:only-of-type {\n",
       "        vertical-align: middle;\n",
       "    }\n",
       "\n",
       "    .dataframe tbody tr th {\n",
       "        vertical-align: top;\n",
       "    }\n",
       "\n",
       "    .dataframe thead th {\n",
       "        text-align: right;\n",
       "    }\n",
       "</style>\n",
       "<table border=\"1\" class=\"dataframe\">\n",
       "  <thead>\n",
       "    <tr style=\"text-align: right;\">\n",
       "      <th></th>\n",
       "      <th>name</th>\n",
       "      <th>pop_est</th>\n",
       "      <th>gdp_md_est</th>\n",
       "    </tr>\n",
       "  </thead>\n",
       "  <tbody>\n",
       "    <tr>\n",
       "      <th>0</th>\n",
       "      <td>Russia</td>\n",
       "      <td>142257519</td>\n",
       "      <td>3745000.0</td>\n",
       "    </tr>\n",
       "    <tr>\n",
       "      <th>1</th>\n",
       "      <td>Norway</td>\n",
       "      <td>5320045</td>\n",
       "      <td>364700.0</td>\n",
       "    </tr>\n",
       "    <tr>\n",
       "      <th>2</th>\n",
       "      <td>France</td>\n",
       "      <td>67106161</td>\n",
       "      <td>2699000.0</td>\n",
       "    </tr>\n",
       "    <tr>\n",
       "      <th>3</th>\n",
       "      <td>Sweden</td>\n",
       "      <td>9960487</td>\n",
       "      <td>498100.0</td>\n",
       "    </tr>\n",
       "    <tr>\n",
       "      <th>4</th>\n",
       "      <td>Belarus</td>\n",
       "      <td>9549747</td>\n",
       "      <td>165400.0</td>\n",
       "    </tr>\n",
       "  </tbody>\n",
       "</table>\n",
       "</div>"
      ],
      "text/plain": [
       "      name    pop_est  gdp_md_est\n",
       "0   Russia  142257519   3745000.0\n",
       "1   Norway    5320045    364700.0\n",
       "2   France   67106161   2699000.0\n",
       "3   Sweden    9960487    498100.0\n",
       "4  Belarus    9549747    165400.0"
      ]
     },
     "execution_count": 47,
     "metadata": {},
     "output_type": "execute_result"
    }
   ],
   "source": [
    "europe_stats.head()"
   ]
  },
  {
   "cell_type": "markdown",
   "metadata": {},
   "source": [
    "- Now we will join these two dataframes\n",
    "- We do the attribute join\n",
    "- The on argument is set to the column name that is used to match rows in europe_boundaries to rows in europe_stats."
   ]
  },
  {
   "cell_type": "code",
   "execution_count": 49,
   "metadata": {},
   "outputs": [
    {
     "data": {
      "text/html": [
       "<div>\n",
       "<style scoped>\n",
       "    .dataframe tbody tr th:only-of-type {\n",
       "        vertical-align: middle;\n",
       "    }\n",
       "\n",
       "    .dataframe tbody tr th {\n",
       "        vertical-align: top;\n",
       "    }\n",
       "\n",
       "    .dataframe thead th {\n",
       "        text-align: right;\n",
       "    }\n",
       "</style>\n",
       "<table border=\"1\" class=\"dataframe\">\n",
       "  <thead>\n",
       "    <tr style=\"text-align: right;\">\n",
       "      <th></th>\n",
       "      <th>name</th>\n",
       "      <th>geometry</th>\n",
       "      <th>pop_est</th>\n",
       "      <th>gdp_md_est</th>\n",
       "    </tr>\n",
       "  </thead>\n",
       "  <tbody>\n",
       "    <tr>\n",
       "      <th>0</th>\n",
       "      <td>Russia</td>\n",
       "      <td>MULTIPOLYGON (((178.725 71.099, 180.000 71.516...</td>\n",
       "      <td>142257519</td>\n",
       "      <td>3745000.0</td>\n",
       "    </tr>\n",
       "    <tr>\n",
       "      <th>1</th>\n",
       "      <td>Norway</td>\n",
       "      <td>MULTIPOLYGON (((15.143 79.674, 15.523 80.016, ...</td>\n",
       "      <td>5320045</td>\n",
       "      <td>364700.0</td>\n",
       "    </tr>\n",
       "    <tr>\n",
       "      <th>2</th>\n",
       "      <td>France</td>\n",
       "      <td>MULTIPOLYGON (((-51.658 4.156, -52.249 3.241, ...</td>\n",
       "      <td>67106161</td>\n",
       "      <td>2699000.0</td>\n",
       "    </tr>\n",
       "    <tr>\n",
       "      <th>3</th>\n",
       "      <td>Sweden</td>\n",
       "      <td>POLYGON ((11.027 58.856, 11.468 59.432, 12.300...</td>\n",
       "      <td>9960487</td>\n",
       "      <td>498100.0</td>\n",
       "    </tr>\n",
       "    <tr>\n",
       "      <th>4</th>\n",
       "      <td>Belarus</td>\n",
       "      <td>POLYGON ((28.177 56.169, 29.230 55.918, 29.372...</td>\n",
       "      <td>9549747</td>\n",
       "      <td>165400.0</td>\n",
       "    </tr>\n",
       "  </tbody>\n",
       "</table>\n",
       "</div>"
      ],
      "text/plain": [
       "      name                                           geometry    pop_est  \\\n",
       "0   Russia  MULTIPOLYGON (((178.725 71.099, 180.000 71.516...  142257519   \n",
       "1   Norway  MULTIPOLYGON (((15.143 79.674, 15.523 80.016, ...    5320045   \n",
       "2   France  MULTIPOLYGON (((-51.658 4.156, -52.249 3.241, ...   67106161   \n",
       "3   Sweden  POLYGON ((11.027 58.856, 11.468 59.432, 12.300...    9960487   \n",
       "4  Belarus  POLYGON ((28.177 56.169, 29.230 55.918, 29.372...    9549747   \n",
       "\n",
       "   gdp_md_est  \n",
       "0   3745000.0  \n",
       "1    364700.0  \n",
       "2   2699000.0  \n",
       "3    498100.0  \n",
       "4    165400.0  "
      ]
     },
     "execution_count": 49,
     "metadata": {},
     "output_type": "execute_result"
    }
   ],
   "source": [
    "# Attribute join to merge data \n",
    "europe = europe_boundaries.merge(europe_stats, on='name')\n",
    "europe.head()"
   ]
  },
  {
   "cell_type": "markdown",
   "metadata": {},
   "source": [
    "#### Spatial join\n",
    "- combine GeoDataFrame based on the spatial relationship between objects in the 'geometry' column\n",
    "- For example, we have GeoDataFrame 'universities' that contain geocode address of European universities\n",
    "- We can  use spatial join to match each university to its corresponding country of europe GeoDataFrame\n",
    "- We will use gpd.sjoin() method"
   ]
  },
  {
   "cell_type": "code",
   "execution_count": 54,
   "metadata": {},
   "outputs": [
    {
     "name": "stderr",
     "output_type": "stream",
     "text": [
      "C:\\Users\\Rabbil\\anaconda3\\envs\\geopandas_env\\lib\\site-packages\\ipykernel_launcher.py:2: UserWarning: CRS mismatch between the CRS of left geometries and the CRS of right geometries.\n",
      "Use `to_crs()` to reproject one of the input geometries to match the CRS of the other.\n",
      "\n",
      "Left CRS: +init=epsg:4326 +type=crs\n",
      "Right CRS: EPSG:4326\n",
      "\n",
      "  \n"
     ]
    },
    {
     "data": {
      "text/html": [
       "<div>\n",
       "<style scoped>\n",
       "    .dataframe tbody tr th:only-of-type {\n",
       "        vertical-align: middle;\n",
       "    }\n",
       "\n",
       "    .dataframe tbody tr th {\n",
       "        vertical-align: top;\n",
       "    }\n",
       "\n",
       "    .dataframe thead th {\n",
       "        text-align: right;\n",
       "    }\n",
       "</style>\n",
       "<table border=\"1\" class=\"dataframe\">\n",
       "  <thead>\n",
       "    <tr style=\"text-align: right;\">\n",
       "      <th></th>\n",
       "      <th>Name</th>\n",
       "      <th>Latitude</th>\n",
       "      <th>Longitude</th>\n",
       "      <th>geometry</th>\n",
       "      <th>index_right</th>\n",
       "      <th>name</th>\n",
       "      <th>pop_est</th>\n",
       "      <th>gdp_md_est</th>\n",
       "    </tr>\n",
       "  </thead>\n",
       "  <tbody>\n",
       "    <tr>\n",
       "      <th>0</th>\n",
       "      <td>University of Oxford</td>\n",
       "      <td>51.756802</td>\n",
       "      <td>-1.254726</td>\n",
       "      <td>POINT (-1.25473 51.75680)</td>\n",
       "      <td>28</td>\n",
       "      <td>United Kingdom</td>\n",
       "      <td>64769452</td>\n",
       "      <td>2788000.0</td>\n",
       "    </tr>\n",
       "    <tr>\n",
       "      <th>1</th>\n",
       "      <td>University of Cambridge</td>\n",
       "      <td>52.205303</td>\n",
       "      <td>0.116613</td>\n",
       "      <td>POINT (0.11661 52.20530)</td>\n",
       "      <td>28</td>\n",
       "      <td>United Kingdom</td>\n",
       "      <td>64769452</td>\n",
       "      <td>2788000.0</td>\n",
       "    </tr>\n",
       "    <tr>\n",
       "      <th>2</th>\n",
       "      <td>Imperial College London</td>\n",
       "      <td>51.498997</td>\n",
       "      <td>-0.175495</td>\n",
       "      <td>POINT (-0.17549 51.49900)</td>\n",
       "      <td>28</td>\n",
       "      <td>United Kingdom</td>\n",
       "      <td>64769452</td>\n",
       "      <td>2788000.0</td>\n",
       "    </tr>\n",
       "    <tr>\n",
       "      <th>4</th>\n",
       "      <td>UCL</td>\n",
       "      <td>51.523815</td>\n",
       "      <td>-0.133060</td>\n",
       "      <td>POINT (-0.13306 51.52382)</td>\n",
       "      <td>28</td>\n",
       "      <td>United Kingdom</td>\n",
       "      <td>64769452</td>\n",
       "      <td>2788000.0</td>\n",
       "    </tr>\n",
       "    <tr>\n",
       "      <th>5</th>\n",
       "      <td>London School of Economics and Political Science</td>\n",
       "      <td>51.513889</td>\n",
       "      <td>-0.116940</td>\n",
       "      <td>POINT (-0.11694 51.51389)</td>\n",
       "      <td>28</td>\n",
       "      <td>United Kingdom</td>\n",
       "      <td>64769452</td>\n",
       "      <td>2788000.0</td>\n",
       "    </tr>\n",
       "  </tbody>\n",
       "</table>\n",
       "</div>"
      ],
      "text/plain": [
       "                                               Name   Latitude  Longitude  \\\n",
       "0                              University of Oxford  51.756802  -1.254726   \n",
       "1                           University of Cambridge  52.205303   0.116613   \n",
       "2                           Imperial College London  51.498997  -0.175495   \n",
       "4                                               UCL  51.523815  -0.133060   \n",
       "5  London School of Economics and Political Science  51.513889  -0.116940   \n",
       "\n",
       "                    geometry  index_right            name   pop_est  \\\n",
       "0  POINT (-1.25473 51.75680)           28  United Kingdom  64769452   \n",
       "1   POINT (0.11661 52.20530)           28  United Kingdom  64769452   \n",
       "2  POINT (-0.17549 51.49900)           28  United Kingdom  64769452   \n",
       "4  POINT (-0.13306 51.52382)           28  United Kingdom  64769452   \n",
       "5  POINT (-0.11694 51.51389)           28  United Kingdom  64769452   \n",
       "\n",
       "   gdp_md_est  \n",
       "0   2788000.0  \n",
       "1   2788000.0  \n",
       "2   2788000.0  \n",
       "4   2788000.0  \n",
       "5   2788000.0  "
      ]
     },
     "execution_count": 54,
     "metadata": {},
     "output_type": "execute_result"
    }
   ],
   "source": [
    "# Spatial join to match universities to countires in Europe\n",
    "european_universities = gpd.sjoin(universities, europe)\n",
    "european_universities.head()"
   ]
  },
  {
   "cell_type": "code",
   "execution_count": 55,
   "metadata": {},
   "outputs": [
    {
     "name": "stdout",
     "output_type": "stream",
     "text": [
      "We located 99 universities.\n",
      "Only 97 of the universities were located in Europe (in 15 different countries).\n"
     ]
    }
   ],
   "source": [
    "print(\"We located {} universities.\".format(len(universities)))\n",
    "print(\"Only {} of the universities were located in Europe (in {} different countries).\".format(\n",
    "    len(european_universities), len(european_universities.name.unique())))"
   ]
  },
  {
   "cell_type": "markdown",
   "metadata": {},
   "source": [
    "- The spatial join above looks at the \"geometry\" columns in both GeoDataFrames. \n",
    "- If a Point object from the universities GeoDataFrame intersects a Polygon object from the europe DataFrame, the corresponding rows are combined and added as a single row of the european_universities DataFrame. \n",
    "- Otherwise, countries without a matching university (and universities without a matching country) are omitted from the results."
   ]
  },
  {
   "cell_type": "code",
   "execution_count": null,
   "metadata": {},
   "outputs": [],
   "source": []
  }
 ],
 "metadata": {
  "kernelspec": {
   "display_name": "Python 3",
   "language": "python",
   "name": "python3"
  },
  "language_info": {
   "codemirror_mode": {
    "name": "ipython",
    "version": 3
   },
   "file_extension": ".py",
   "mimetype": "text/x-python",
   "name": "python",
   "nbconvert_exporter": "python",
   "pygments_lexer": "ipython3",
   "version": "3.7.8"
  }
 },
 "nbformat": 4,
 "nbformat_minor": 4
}
